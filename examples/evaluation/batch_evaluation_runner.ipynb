{
 "cells": [
  {
   "cell_type": "markdown",
   "metadata": {},
   "source": [
    "# Run multiple evaluation modes for a configuration & set of queries"
   ]
  },
  {
   "cell_type": "code",
   "execution_count": 1,
   "metadata": {},
   "outputs": [
    {
     "name": "stdout",
     "output_type": "stream",
     "text": [
      "approach: sql_engine_w_reranking\n",
      "database:\n",
      "  metadata:\n",
      "    document_id_like: '%-2'\n",
      "    metadata_path: sqlite:///data/chinook.db\n",
      "    table_name: table_descriptions\n",
      "  path: sqlite:///data/chinook.db\n",
      "index:\n",
      "  class: ollama\n",
      "  name: llama2reranker\n",
      "  reranking:\n",
      "    config_object: ReRankerLLMConfig\n",
      "    reranker_kwargs:\n",
      "      top_n: 3\n",
      "  retriever_kwargs:\n",
      "    similarity_top_k: 4\n",
      "llm:\n",
      "  class: ollama\n",
      "  name: llama2\n",
      "\n"
     ]
    }
   ],
   "source": [
    "import yaml\n",
    "\n",
    "from dbchat import ROOT_DIR\n",
    "\n",
    "config_path = ROOT_DIR.parent / \"tests/data/inputs/cfg_3.yml\"\n",
    "with open(config_path) as f:\n",
    "    config = yaml.safe_load(f)\n",
    "print(yaml.dump(config))"
   ]
  },
  {
   "cell_type": "markdown",
   "metadata": {},
   "source": [
    "### Create 2 datasets, one with target/expected agent responses and one without\n",
    "\n",
    "Split the evaluation dataset into two files: queries with expected responses, and those without.\n",
    "\n",
    "```bash\n",
    "awk -F '|' '{ if ($5 == \"\") print > \"examples/evaluation/queries_no_response.csv\"; else print > \"examples/evaluation/queries_with_response.csv\" }' examples/evaluation/queries.csv\n",
    "```"
   ]
  },
  {
   "cell_type": "code",
   "execution_count": null,
   "metadata": {},
   "outputs": [],
   "source": [
    "from typing import List\n",
    "from dbchat.evaluation.evaluate import evaluate_synthetic_judge, evaluate_synthetic_judge_with_query, evaluate_table_name_retrieval\n",
    "\n",
    "pipeline_results: List[dict] = []\n",
    "\n",
    "# For test data with only user query & expected tables;\n",
    "test_data_path_no_responses = \"examples/evaluation/queries_no_response.csv\"\n",
    "eval_funcs = [evaluate_table_name_retrieval]\n",
    "for f in eval_funcs:\n",
    "    r = f(test_data_path_no_responses, config_path)\n",
    "    pipeline_results.extend(r)\n",
    "\n",
    "# For test data with user query, and a target desired response;\n",
    "test_data_path_with_responses = \"examples/evaluation/queries_with_response.csv\"\n",
    "eval_funcs = [evaluate_synthetic_judge_with_query,\n",
    "              evaluate_synthetic_judge,\n",
    "              evaluate_table_name_retrieval]\n",
    "for f in eval_funcs:\n",
    "    r = f(test_data_path_with_responses, config_path)\n",
    "    pipeline_results.extend(r)\n"
   ]
  },
  {
   "cell_type": "markdown",
   "metadata": {},
   "source": [
    "# Using multiprocessing (untested)\n",
    " - Need to check the amount of CPU / IO processes in the pipeline"
   ]
  },
  {
   "cell_type": "code",
   "execution_count": null,
   "metadata": {},
   "outputs": [],
   "source": [
    "import multiprocessing\n",
    "\n",
    "pipeline_results = []\n",
    "\n",
    "# For test data with only user query & expected tables;\n",
    "test_data_path_no_responses = \"examples/evaluation/queries_no_response.csv\"\n",
    "eval_funcs_no_responses = [evaluate_table_name_retrieval]\n",
    "\n",
    "# For test data with user query, and a target desired response;\n",
    "test_data_path_with_responses = \"examples/evaluation/queries_with_response.csv\"\n",
    "eval_funcs_with_responses = [evaluate_synthetic_judge_with_query,\n",
    "                             evaluate_synthetic_judge,\n",
    "                             evaluate_table_name_retrieval]\n",
    "\n",
    "# Create a multiprocessing pool\n",
    "pool = multiprocessing.Pool()\n",
    "\n",
    "# Run the first loop functions in parallel\n",
    "results_no_responses = pool.starmap(lambda f: f(test_data_path_no_responses, config_path), [(f,) for f in eval_funcs_no_responses])\n",
    "\n",
    "# Run the second loop functions in parallel\n",
    "results_with_responses = pool.starmap(lambda f: f(test_data_path_with_responses, config_path), [(f,) for f in eval_funcs_with_responses])\n",
    "\n",
    "# Extend the pipeline_results with the results from both loops\n",
    "for r in results_no_responses:\n",
    "    pipeline_results.extend(r)\n",
    "for r in results_with_responses:\n",
    "    pipeline_results.extend(r)\n",
    "\n",
    "# Close the multiprocessing pool\n",
    "pool.close()\n",
    "pool.join()"
   ]
  }
 ],
 "metadata": {
  "kernelspec": {
   "display_name": "db-chat",
   "language": "python",
   "name": "python3"
  },
  "language_info": {
   "codemirror_mode": {
    "name": "ipython",
    "version": 3
   },
   "file_extension": ".py",
   "mimetype": "text/x-python",
   "name": "python",
   "nbconvert_exporter": "python",
   "pygments_lexer": "ipython3",
   "version": "3.11.5"
  }
 },
 "nbformat": 4,
 "nbformat_minor": 2
}
