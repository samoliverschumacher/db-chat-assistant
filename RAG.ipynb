{
 "cells": [
  {
   "cell_type": "code",
   "execution_count": 2,
   "metadata": {},
   "outputs": [],
   "source": [
    "# Load a user query\n",
    "from pathlib import Path\n",
    "from dbchat import ROOT_DIR\n",
    "\n",
    "# Example queries\n",
    "test_data_path = ROOT_DIR.parent / \"tests/data/inputs/end-to-end.csv\"\n",
    "# Metadata directory\n",
    "DATA_DIR = ROOT_DIR.parent.parent / \"data\"\n",
    "table_metadata_dir = DATA_DIR / \"metadata\"\n",
    "\n",
    "table_meta_descriptions_file = DATA_DIR / \"table_descriptions.csv\"\n",
    "db_path = str(DATA_DIR / \"chinook.db\")\n",
    "\n",
    "# test_data_path = \"/mnt/c/Users/ssch7/repos/db-chat-assistant/src/tests/data/inputs/end-to-end.csv\"\n",
    "\n",
    "def load_example_queries(test_data_path):\n",
    "    test_data = []\n",
    "    with open(test_data_path) as f:\n",
    "        f.readline()  # Remove header row\n",
    "        for row in f.readlines():\n",
    "            id, user_query, tables, comment = row.split('|')\n",
    "            test_data.append((id, user_query, tables, comment))\n",
    "test_data = load_example_queries(test_data_path)"
   ]
  },
  {
   "cell_type": "markdown",
   "metadata": {},
   "source": [
    "## Retrieve documents"
   ]
  },
  {
   "cell_type": "code",
   "execution_count": 24,
   "metadata": {},
   "outputs": [],
   "source": [
    "# Retrieve a document, based on the query.\n",
    "from typing import List\n",
    "from llama_index import VectorStoreIndex, SimpleDirectoryReader\n",
    "\n",
    "def load_raw_yaml():\n",
    "    \"\"\"\n",
    "    docs = load_raw_yaml()\n",
    "    index = VectorStoreIndex.from_documents(docs)\n",
    "    \"\"\"\n",
    "    # Load the YAML metadata raw\n",
    "    required_exts = [\".yaml\"]\n",
    "    reader = SimpleDirectoryReader(\n",
    "        input_dir=table_metadata_dir,\n",
    "        required_exts=required_exts,\n",
    "        recursive=False,\n",
    "    )\n",
    "    documents = reader.load_data()\n",
    "    return documents\n",
    "\n",
    "import csv\n",
    "def load_table_meta_descriptions() -> List[dict]:\n",
    "    # Load the CSV file as a list of dictionaries\n",
    "    data = []\n",
    "    with open(table_meta_descriptions_file, \"r\") as csvfile:\n",
    "        reader = csv.DictReader(csvfile)\n",
    "        for row in reader:\n",
    "            data.append(dict(row))\n",
    "    return data\n",
    "\n",
    "from llama_index import download_loader\n",
    "from sqlalchemy import create_engine\n",
    "def load_metadata_from_sqllite():\n",
    "    DatabaseReader = download_loader(\"DatabaseReader\")\n",
    "\n",
    "    engine = create_engine(f\"sqlite:///{db_path}\")\n",
    "    reader = DatabaseReader(\n",
    "        # uri = f\"sqlite:///{db_path}\"\n",
    "        engine = engine\n",
    "    )\n",
    "\n",
    "    query = \"SELECT * FROM table_descriptions\"\n",
    "    documents = reader.load_data(query=query)\n",
    "    return documents\n",
    "\n",
    "documents = load_metadata_from_sqllite()"
   ]
  },
  {
   "cell_type": "markdown",
   "metadata": {},
   "source": [
    "## Build an index of the documents"
   ]
  },
  {
   "cell_type": "code",
   "execution_count": 25,
   "metadata": {},
   "outputs": [],
   "source": [
    "# Build the index\n",
    "index = VectorStoreIndex.from_documents(documents)\n",
    "index.storage_context.persist(table_metadata_dir / \"indices/table_descriptions\")\n",
    "\n",
    "# Load index from disk\n",
    "from llama_index import StorageContext, load_index_from_storage\n",
    "\n",
    "# rebuild storage context\n",
    "storage_context = StorageContext.from_defaults(persist_dir=str(table_metadata_dir / \"indices/table_descriptions\"))\n",
    "# load index\n",
    "index = load_index_from_storage(storage_context)"
   ]
  },
  {
   "cell_type": "markdown",
   "metadata": {},
   "source": [
    "Ollama - Llama 2 7B Vector store"
   ]
  },
  {
   "cell_type": "code",
   "execution_count": 33,
   "metadata": {},
   "outputs": [],
   "source": [
    "# Mare sure the model is running (`ollama serve` in terminal)\n",
    "from llama_index.llms import Ollama\n",
    "llm = Ollama(model=\"llama2\")"
   ]
  },
  {
   "cell_type": "code",
   "execution_count": 34,
   "metadata": {},
   "outputs": [],
   "source": [
    "resp = llm.complete(\"Who is Paul Graham?\")\n",
    "print(resp)"
   ]
  },
  {
   "cell_type": "code",
   "execution_count": null,
   "metadata": {},
   "outputs": [],
   "source": [
    "from llama_index import ServiceContext, set_global_service_context\n",
    "# set a global service context\n",
    "ctx = ServiceContext.from_defaults(llm=llm)\n",
    "set_global_service_context(ctx)\n",
    "\n",
    "# Now you can use this service context when creating your VectorStoreIndex\n",
    "from llama_index import VectorStoreIndex, SimpleDirectoryReader\n",
    "\n",
    "documents = SimpleDirectoryReader(\"data\").load_data()\n",
    "index = VectorStoreIndex.from_documents(documents, service_context=ctx)"
   ]
  },
  {
   "cell_type": "markdown",
   "metadata": {},
   "source": [
    "OpenAI vector store"
   ]
  },
  {
   "cell_type": "code",
   "execution_count": 26,
   "metadata": {},
   "outputs": [
    {
     "data": {
      "text/plain": [
       "<llama_index.indices.vector_store.base.VectorStoreIndex at 0x7f1621a2ab90>"
      ]
     },
     "execution_count": 26,
     "metadata": {},
     "output_type": "execute_result"
    }
   ],
   "source": [
    "from llama_index.llms import OpenAI\n",
    "from llama_index import VectorStoreIndex, SimpleDirectoryReader, ServiceContext\n",
    "\n",
    "# Instantiate the LLM with the desired model and parameters\n",
    "llm = OpenAI(temperature=0.1, model=\"gpt-4\")\n",
    "\n",
    "# Create a ServiceContext with the LLM\n",
    "service_context = ServiceContext.from_defaults(llm=llm)\n",
    "\n",
    "# Load your documents\n",
    "documents = SimpleDirectoryReader(\"data\").load_data()\n",
    "\n",
    "# Build the index with the ServiceContext\n",
    "index = VectorStoreIndex.from_documents(documents, service_context=service_context)"
   ]
  }
 ],
 "metadata": {
  "kernelspec": {
   "display_name": "db-chat",
   "language": "python",
   "name": "python3"
  },
  "language_info": {
   "codemirror_mode": {
    "name": "ipython",
    "version": 3
   },
   "file_extension": ".py",
   "mimetype": "text/x-python",
   "name": "python",
   "nbconvert_exporter": "python",
   "pygments_lexer": "ipython3",
   "version": "3.11.5"
  }
 },
 "nbformat": 4,
 "nbformat_minor": 2
}
