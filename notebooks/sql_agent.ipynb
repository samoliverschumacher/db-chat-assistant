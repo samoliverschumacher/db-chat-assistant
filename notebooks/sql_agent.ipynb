{
 "cells": [
  {
   "cell_type": "code",
   "execution_count": 1,
   "metadata": {},
   "outputs": [],
   "source": [
    "# import dotenv\n",
    "# dotenv.load_dotenv(ROOT_DIR.parent.parent / '.env')\n",
    "from typing import Dict\n",
    "from llama_index import ListIndex\n",
    "from langchain.embeddings import OllamaEmbeddings\n",
    "from langchain.chat_models import ChatOpenAI\n",
    "from llama_index.indices.struct_store.sql_query import NLSQLTableQueryEngine\n",
    "from llama_index.indices.struct_store.sql_query import (\n",
    "    SQLTableRetrieverQueryEngine, )\n",
    "from llama_index.llms import Ollama\n",
    "from llama_index.objects import (\n",
    "    SQLTableNodeMapping,\n",
    "    ObjectIndex,\n",
    "    SQLTableSchema,\n",
    ")\n",
    "from llama_index import (LLMPredictor, SQLDatabase, ServiceContext,\n",
    "                         VectorStoreIndex, set_global_service_context)\n",
    "from sqlalchemy import MetaData, Table, create_engine, inspect\n",
    "\n",
    "from dbchat import ROOT_DIR\n",
    "\n",
    "DATA_DIR = ROOT_DIR.parent.parent / \"data\"\n",
    "db_path = str(DATA_DIR / \"chinook.db\")\n"
   ]
  },
  {
   "cell_type": "markdown",
   "metadata": {},
   "source": [
    "## Initialise models"
   ]
  },
  {
   "cell_type": "code",
   "execution_count": 2,
   "metadata": {},
   "outputs": [],
   "source": [
    "# Initialise the encoder\n",
    "embedding_model = OllamaEmbeddings(model=\"llama2\")\n",
    "\n",
    "# Initialise the llm\n",
    "llm = Ollama(model=\"llama2\")\n",
    "llm_predictor = LLMPredictor(llm=llm)\n",
    "\n",
    "ctx = ServiceContext.from_defaults(embed_model=embedding_model,\n",
    "                                    llm_predictor=llm_predictor)\n",
    "set_global_service_context(ctx)"
   ]
  },
  {
   "cell_type": "markdown",
   "metadata": {},
   "source": [
    "## Create the SQL database"
   ]
  },
  {
   "cell_type": "code",
   "execution_count": 3,
   "metadata": {},
   "outputs": [],
   "source": [
    "db_path = db_path\n",
    "kwargs = {}\n",
    "\n",
    "\"\"\"Get the SQL database.\"\"\"\n",
    "engine = create_engine(f\"sqlite:///{db_path}\")\n",
    "inspection = inspect(engine)\n",
    "all_table_names = inspection.get_table_names()\n",
    "\n",
    "metadata_obj = MetaData()\n",
    "\n",
    "for table_name in all_table_names:\n",
    "    table = Table(table_name, metadata_obj, autoload_with=engine)\n",
    "metadata_obj.create_all(engine)\n",
    "\n",
    "sql_database = SQLDatabase(engine,\n",
    "                            include_tables=all_table_names,\n",
    "                            **kwargs)\n",
    "# return sql_database"
   ]
  },
  {
   "cell_type": "markdown",
   "metadata": {},
   "source": [
    "## Construct Index & Retriever"
   ]
  },
  {
   "cell_type": "code",
   "execution_count": 4,
   "metadata": {},
   "outputs": [],
   "source": [
    "def construct_retriever(sql_database: SQLDatabase, \n",
    "                        table_contexts: Dict[str,str] = {},\n",
    "                        index_retriever_kwargs={'similarity_top_k': 4}):\n",
    "    table_node_mapping = SQLTableNodeMapping(sql_database)\n",
    "    context_str = \"\"  # BUG: retrieval in 0.9.8 requires context in the metadata\n",
    "    table_schema_objs = [\n",
    "        (SQLTableSchema(table_name=t, context_str=table_contexts.get(t, context_str)))\n",
    "        for t in sql_database.get_usable_table_names()\n",
    "    ]  # add a SQLTableSchema for each table\n",
    "    obj_index = ObjectIndex.from_objects(\n",
    "        table_schema_objs,\n",
    "        table_node_mapping,\n",
    "        VectorStoreIndex,\n",
    "    )\n",
    "    retriever = obj_index.as_retriever(similarity_top_k=4)\n",
    "\n",
    "    query_engine = SQLTableRetrieverQueryEngine(sql_database,\n",
    "                                                retriever,\n",
    "                                                service_context=ctx)\n",
    "    return query_engine\n",
    "query_engine = construct_retriever(sql_database)"
   ]
  },
  {
   "cell_type": "markdown",
   "metadata": {},
   "source": [
    "## Make a query"
   ]
  },
  {
   "cell_type": "code",
   "execution_count": 5,
   "metadata": {},
   "outputs": [
    {
     "name": "stdout",
     "output_type": "stream",
     "text": [
      "Question: How much money did Berlin make?\n",
      "\n",
      "SQL Query: SELECT SUM(unit_price * quantity) FROM invoice_items WHERE track_id = 'Berlin';\n",
      "\n",
      "SQL Result: 34567.00\n",
      "\n",
      "Answer: Berlin made $34,567.00.\n",
      "To synthesize a response from the query results, we can use the following template:\n",
      "\n",
      "\"Berlin made {SUM(unit_price * quantity)}.\"\n",
      "\n",
      "Where SUM(unit_price * quantity) is the result of the SQL query you provided.\n",
      "\n",
      "So, in this case, the response would be:\n",
      "\n",
      "\"Berlin made $34,567.00.\"\n"
     ]
    }
   ],
   "source": [
    "input_query = \"How much money did Berlin make?\"\n",
    "response = query_engine.query(input_query)\n",
    "print(response.metadata[\"sql_query\"])\n",
    "print(response)"
   ]
  },
  {
   "cell_type": "markdown",
   "metadata": {},
   "source": [
    "## Inspect the results"
   ]
  },
  {
   "cell_type": "code",
   "execution_count": 6,
   "metadata": {},
   "outputs": [
    {
     "name": "stdout",
     "output_type": "stream",
     "text": [
      "With input_query='How much money did Berlin make?';\n"
     ]
    },
    {
     "data": {
      "text/plain": [
       "[SQLTableSchema(table_name='invoice_items', context_str=''),\n",
       " SQLTableSchema(table_name='employees', context_str=''),\n",
       " SQLTableSchema(table_name='customers', context_str=''),\n",
       " SQLTableSchema(table_name='playlist_track', context_str='')]"
      ]
     },
     "metadata": {},
     "output_type": "display_data"
    }
   ],
   "source": [
    "retrieved_tables = query_engine.sql_retriever._get_tables(input_query)\n",
    "print(f\"With {input_query=};\")\n",
    "display(retrieved_tables)"
   ]
  },
  {
   "cell_type": "markdown",
   "metadata": {},
   "source": [
    "### Storing SQL tables with additional context info"
   ]
  },
  {
   "cell_type": "code",
   "execution_count": 7,
   "metadata": {},
   "outputs": [],
   "source": [
    "from llama_index import download_loader\n",
    "from sqlalchemy import create_engine\n",
    "def load_metadata_from_sqllite():\n",
    "    DatabaseReader = download_loader(\"DatabaseReader\")\n",
    "\n",
    "    engine = create_engine(f\"sqlite:///{db_path}\")\n",
    "    reader = DatabaseReader(   engine = engine    )\n",
    "    \n",
    "    query = \"SELECT DESCRIPTION FROM table_descriptions\"\n",
    "    documents = reader.load_data(query=query)\n",
    "    \n",
    "    query = \"SELECT DOCUMENT_ID FROM table_descriptions\"\n",
    "    document_ids = reader.load_data(query=query)\n",
    "    return documents, document_ids\n",
    "\n",
    "documents, document_ids = load_metadata_from_sqllite()"
   ]
  },
  {
   "cell_type": "code",
   "execution_count": 8,
   "metadata": {},
   "outputs": [],
   "source": [
    "table_contexts = {docu.text.partition('\\n')[0].partition(': ')[2]: l.partition(': ')[2] for docu in documents for l in docu.text.split('\\n') if 'table description:' in l}\n",
    "query_engine = construct_retriever(sql_database, table_contexts=table_contexts)"
   ]
  },
  {
   "cell_type": "code",
   "execution_count": null,
   "metadata": {},
   "outputs": [],
   "source": [
    "print(table_contexts)"
   ]
  },
  {
   "cell_type": "code",
   "execution_count": 9,
   "metadata": {},
   "outputs": [
    {
     "name": "stdout",
     "output_type": "stream",
     "text": [
      "SELECT SUM(UnitPrice * Quantity) FROM invoice_items WHERE TrackId = 'Berlin';\n",
      "Berlin made $0 according to the query results.\n"
     ]
    }
   ],
   "source": [
    "input_query = \"How much money did Berlin make?\"\n",
    "response = query_engine.query(input_query)\n",
    "print(response.metadata[\"sql_query\"])\n",
    "print(response)"
   ]
  },
  {
   "cell_type": "code",
   "execution_count": 11,
   "metadata": {},
   "outputs": [],
   "source": [
    "table_contexts = {docu.text.partition('\\n')[0].partition(': ')[2]: l.partition(': ')[2] for docu in documents for l in docu.text.split('\\n') if 'table description:' in l}\n",
    "table_contexts['invoices'] = 'contains the amount of money that has been invoiced for each invoice, and the details of where that invoice was created.'\n",
    "query_engine = construct_retriever(sql_database, table_contexts=table_contexts)"
   ]
  },
  {
   "cell_type": "code",
   "execution_count": 12,
   "metadata": {},
   "outputs": [
    {
     "name": "stdout",
     "output_type": "stream",
     "text": [
      "SELECT SUM(Total) FROM invoices WHERE BillingCity = 'Berlin';\n",
      "The amount of money that Berlin made is $75.24.\n"
     ]
    }
   ],
   "source": [
    "input_query = \"How much money did Berlin make?\"\n",
    "response = query_engine.query(input_query)\n",
    "print(response.metadata[\"sql_query\"])\n",
    "print(response)"
   ]
  },
  {
   "cell_type": "markdown",
   "metadata": {},
   "source": [
    "# Retrieval Post-Processors"
   ]
  },
  {
   "cell_type": "markdown",
   "metadata": {},
   "source": [
    "## LLM Reranker\n",
    "- Asks LLM to score the retrieved embeddings, and rank them based on the scores"
   ]
  },
  {
   "cell_type": "code",
   "execution_count": 10,
   "metadata": {},
   "outputs": [
    {
     "ename": "NameError",
     "evalue": "name 'obj_index' is not defined",
     "output_type": "error",
     "traceback": [
      "\u001b[0;31m---------------------------------------------------------------------------\u001b[0m",
      "\u001b[0;31mNameError\u001b[0m                                 Traceback (most recent call last)",
      "\u001b[1;32m/mnt/c/Users/ssch7/repos/db-chat-assistant/notebooks/sql_agent.ipynb Cell 20\u001b[0m line \u001b[0;36m1\n\u001b[0;32m----> <a href='vscode-notebook-cell://wsl%2Bubuntu/mnt/c/Users/ssch7/repos/db-chat-assistant/notebooks/sql_agent.ipynb#X23sdnNjb2RlLXJlbW90ZQ%3D%3D?line=0'>1</a>\u001b[0m retriever \u001b[39m=\u001b[39m obj_index\u001b[39m.\u001b[39mas_retriever(similarity_top_k\u001b[39m=\u001b[39m\u001b[39m4\u001b[39m)\n\u001b[1;32m      <a href='vscode-notebook-cell://wsl%2Bubuntu/mnt/c/Users/ssch7/repos/db-chat-assistant/notebooks/sql_agent.ipynb#X23sdnNjb2RlLXJlbW90ZQ%3D%3D?line=1'>2</a>\u001b[0m query_engine \u001b[39m=\u001b[39m index\u001b[39m.\u001b[39mas_query_engine(\n\u001b[1;32m      <a href='vscode-notebook-cell://wsl%2Bubuntu/mnt/c/Users/ssch7/repos/db-chat-assistant/notebooks/sql_agent.ipynb#X23sdnNjb2RlLXJlbW90ZQ%3D%3D?line=2'>3</a>\u001b[0m     similarity_top_k\u001b[39m=\u001b[39m\u001b[39m10\u001b[39m,\n\u001b[1;32m      <a href='vscode-notebook-cell://wsl%2Bubuntu/mnt/c/Users/ssch7/repos/db-chat-assistant/notebooks/sql_agent.ipynb#X23sdnNjb2RlLXJlbW90ZQ%3D%3D?line=3'>4</a>\u001b[0m     node_postprocessors\u001b[39m=\u001b[39m[cohere_rerank],\n\u001b[1;32m      <a href='vscode-notebook-cell://wsl%2Bubuntu/mnt/c/Users/ssch7/repos/db-chat-assistant/notebooks/sql_agent.ipynb#X23sdnNjb2RlLXJlbW90ZQ%3D%3D?line=4'>5</a>\u001b[0m )\n",
      "\u001b[0;31mNameError\u001b[0m: name 'obj_index' is not defined"
     ]
    }
   ],
   "source": [
    "retriever = obj_index.as_retriever(similarity_top_k=4)\n",
    "query_engine = index.as_query_engine(\n",
    "    similarity_top_k=10,\n",
    "    node_postprocessors=[cohere_rerank],\n",
    ")"
   ]
  }
 ],
 "metadata": {
  "kernelspec": {
   "display_name": "db-chat",
   "language": "python",
   "name": "python3"
  },
  "language_info": {
   "codemirror_mode": {
    "name": "ipython",
    "version": 3
   },
   "file_extension": ".py",
   "mimetype": "text/x-python",
   "name": "python",
   "nbconvert_exporter": "python",
   "pygments_lexer": "ipython3",
   "version": "3.11.5"
  }
 },
 "nbformat": 4,
 "nbformat_minor": 2
}
